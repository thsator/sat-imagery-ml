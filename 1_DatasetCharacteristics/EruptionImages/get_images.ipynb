{
 "cells": [
  {
   "cell_type": "code",
   "execution_count": 1,
   "id": "0",
   "metadata": {},
   "outputs": [],
   "source": [
    "import pandas as pd"
   ]
  },
  {
   "cell_type": "code",
   "execution_count": null,
   "id": "1",
   "metadata": {},
   "outputs": [],
   "source": [
    "import os\n",
    "dir = os.path.dirname(os.path.dirname(os.getcwd()))\n",
    "print(dir)"
   ]
  },
  {
   "cell_type": "code",
   "execution_count": 3,
   "id": "2",
   "metadata": {},
   "outputs": [],
   "source": [
    "path_eruptions_preprocessed = os.path.join(dir, \"Eruption_data\", \"eruptions_preprocessed.csv\")\n",
    "df_eruptions = pd.read_csv(path_eruptions_preprocessed)\n",
    "# df_eruptions.head()"
   ]
  },
  {
   "cell_type": "code",
   "execution_count": 4,
   "id": "3",
   "metadata": {},
   "outputs": [
    {
     "data": {
      "text/plain": [
       "531"
      ]
     },
     "execution_count": 4,
     "metadata": {},
     "output_type": "execute_result"
    }
   ],
   "source": [
    "len(df_eruptions['Eruption Number'].unique())"
   ]
  },
  {
   "cell_type": "code",
   "execution_count": 5,
   "id": "4",
   "metadata": {},
   "outputs": [
    {
     "name": "stdout",
     "output_type": "stream",
     "text": [
      "done\n"
     ]
    }
   ],
   "source": [
    "import numpy as np\n",
    "\n",
    "import ee\n",
    "ee.Initialize(project='bustling-syntax-392010')\n",
    "print('done')\n",
    "\n",
    "# parse and reorder bbox column to correct coordinate format for Earth Engine\n",
    "def parse_bbox_string(bbox_str):\n",
    "    try:\n",
    "        coords = list(map(float, bbox_str.strip('[] ').split(',')))\n",
    "        if len(coords) != 4:\n",
    "            raise ValueError\n",
    "        lat1, lon1, lat2, lon2 = coords\n",
    "        return ee.Geometry.BBox(lon1, lat1, lon2, lat2)\n",
    "    except Exception:\n",
    "        return np.nan  # return NaN for invalid rows\n",
    "\n",
    "df_eruptions['bbox'] = df_eruptions['bbox'].astype(str)\n",
    "\n",
    "df_eruptions['ee_bbox'] = df_eruptions['bbox'].apply(parse_bbox_string)\n",
    "df_eruptions = df_eruptions.dropna(subset=['ee_bbox'])"
   ]
  },
  {
   "cell_type": "code",
   "execution_count": 6,
   "id": "5",
   "metadata": {},
   "outputs": [],
   "source": [
    "targets = [\"300250\", \"243080\",\"260010\", \"273030\", \"263250\", \"341090\", \"211060\", \"211040\", \"332020\", \"223030\", \"332010\"]\n",
    "df_eruptions = df_eruptions[df_eruptions['Volcano Number'].astype(str).isin(targets)]\n",
    "\n",
    "df_eruptions = df_eruptions[df_eruptions['Start Year'] >= 2016]"
   ]
  },
  {
   "cell_type": "code",
   "execution_count": 7,
   "id": "6",
   "metadata": {},
   "outputs": [
    {
     "name": "stdout",
     "output_type": "stream",
     "text": [
      "['Bezymianny' 'Kilauea' 'Home Reef' 'Mayon' 'Barren Island' 'Etna'\n",
      " 'Mauna Loa' 'Merapi']\n"
     ]
    }
   ],
   "source": [
    "unique_volcano_names = df_eruptions['Volcano Name'].unique()\n",
    "print(unique_volcano_names)"
   ]
  },
  {
   "cell_type": "code",
   "execution_count": 8,
   "id": "7",
   "metadata": {},
   "outputs": [
    {
     "name": "stdout",
     "output_type": "stream",
     "text": [
      "count             27\n",
      "unique            23\n",
      "top       2022-11-27\n",
      "freq               3\n",
      "Name: Start_Date, dtype: object\n",
      "\n",
      "Unique Start Dates: 23\n",
      "\n",
      "Date Range: 2016-12-05 to 2024-12-24\n"
     ]
    }
   ],
   "source": [
    "print(df_eruptions['Start_Date'].describe())\n",
    "print(\"\\nUnique Start Dates:\", df_eruptions['Start_Date'].nunique())\n",
    "print(\"\\nDate Range:\", df_eruptions['Start_Date'].min(), \"to\", df_eruptions['Start_Date'].max())"
   ]
  },
  {
   "cell_type": "markdown",
   "id": "8",
   "metadata": {},
   "source": [
    "# Image config"
   ]
  },
  {
   "cell_type": "markdown",
   "id": "9",
   "metadata": {},
   "source": [
    "# Get data"
   ]
  },
  {
   "cell_type": "code",
   "execution_count": null,
   "id": "10",
   "metadata": {},
   "outputs": [],
   "source": [
    "# False-color viz parameters (for the lava flow) with increased contrast\n",
    "false_color_vis = {\n",
    "    'bands': ['B12', 'B11', 'B8A'],\n",
    "    'min': 0,\n",
    "    'max': 4000,  # increase max value for higher contrast\n",
    "    'gamma': 0.8  # Lower gamma to enhance saturation\n",
    "}"
   ]
  },
  {
   "cell_type": "code",
   "execution_count": null,
   "id": "11",
   "metadata": {},
   "outputs": [],
   "source": [
    "# Output base directory\n",
    "output_dir = './sentinel_pngs/'\n",
    "os.makedirs(output_dir, exist_ok=True)\n",
    "\n",
    "print(\"Saving images to:\", os.path.abspath(output_dir))"
   ]
  },
  {
   "cell_type": "markdown",
   "id": "12",
   "metadata": {},
   "source": [
    "# YesActivity // NoActivity"
   ]
  },
  {
   "cell_type": "code",
   "execution_count": null,
   "id": "13",
   "metadata": {},
   "outputs": [],
   "source": [
    "import os\n",
    "import requests\n",
    "import pandas as pd\n",
    "import ee\n",
    "from datetime import timedelta\n",
    "\n",
    "\n",
    "def download_false_color_series(row, duration_days: int, cloudy_pixel_percentage: int, output_dir: str, false_color_vis: dict):\n",
    "    eruption_id = row['Volcano Name'].replace(' ', '_') + \"_\" + str(row['Eruption Number'])\n",
    "    start_date = pd.to_datetime(row['Start_Date'])\n",
    "    bbox = row['ee_bbox']  # Must be ee.Geometry.BBox or Polygon\n",
    "\n",
    "    start_window = (start_date - timedelta(days=duration_days)).strftime('%Y-%m-%d')\n",
    "    end_window = (start_date + timedelta(days=duration_days)).strftime('%Y-%m-%d')\n",
    "\n",
    "    s2 = ee.ImageCollection(\"COPERNICUS/S2_HARMONIZED\") \\\n",
    "        .filterDate(start_window, end_window) \\\n",
    "        .filterBounds(bbox) \\\n",
    "        .filterMetadata('CLOUDY_PIXEL_PERCENTAGE', 'less_than', cloudy_pixel_percentage)\n",
    "\n",
    "    try:\n",
    "        s2_list = s2.toList(s2.size())\n",
    "        count = s2.size().getInfo()\n",
    "\n",
    "        if count == 0:\n",
    "            print(f\"No images found for {eruption_id} in the specified range.\")\n",
    "            return\n",
    "\n",
    "        # base directory for eruption\n",
    "        eruption_dir = os.path.join(output_dir, eruption_id)\n",
    "        no_activity_dir = os.path.join(eruption_dir, \"NoActivity\")\n",
    "        yes_activity_dir = os.path.join(eruption_dir, \"YesActivity\")\n",
    "        os.makedirs(no_activity_dir, exist_ok=True)\n",
    "        os.makedirs(yes_activity_dir, exist_ok=True)\n",
    "\n",
    "        for i in range(0, count):\n",
    "            try:\n",
    "                img = ee.Image(s2_list.get(i))\n",
    "                date_str = img.date().format('YYYY-MM-dd').getInfo()\n",
    "                img_date = pd.to_datetime(date_str)\n",
    "\n",
    "                subfolder = no_activity_dir if img_date < start_date else yes_activity_dir\n",
    "\n",
    "                # Select and visualize bands\n",
    "                raw_img = img.clip(bbox).select(['B12', 'B11', 'B8A'])\n",
    "                vis_img = raw_img.visualize(**false_color_vis)\n",
    "\n",
    "                url = vis_img.getThumbURL({\n",
    "                    'region': bbox.getInfo(),\n",
    "                    'dimensions': 512,\n",
    "                    'format': 'png'\n",
    "                })\n",
    "\n",
    "                file_path = os.path.join(subfolder, f'{eruption_id}_{date_str}.png')\n",
    "\n",
    "                response = requests.get(url)\n",
    "                if response.status_code == 200:\n",
    "                    with open(file_path, 'wb') as f:\n",
    "                        f.write(response.content)\n",
    "                    print(f\"Downloaded: {file_path}\")\n",
    "                else:\n",
    "                    print(f\"Failed ({response.status_code}) for {eruption_id} on {date_str}\")\n",
    "\n",
    "            except Exception as e:\n",
    "                print(f\"Error processing image {i} for {eruption_id}: {e}\")\n",
    "\n",
    "    except Exception as e:\n",
    "        print(f\"Failed to process {eruption_id}: {e}\")\n"
   ]
  },
  {
   "cell_type": "code",
   "execution_count": null,
   "id": "14",
   "metadata": {},
   "outputs": [],
   "source": [
    "for _, row in df_eruptions.iterrows():\n",
    "    download_false_color_series(row, duration_days=365, cloudy_pixel_percentage=20, output_dir=output_dir, false_color_vis=false_color_vis)"
   ]
  },
  {
   "cell_type": "markdown",
   "id": "15",
   "metadata": {},
   "source": [
    "# Specific bbox and date"
   ]
  },
  {
   "cell_type": "code",
   "execution_count": null,
   "id": "16",
   "metadata": {},
   "outputs": [],
   "source": [
    "import os\n",
    "import requests\n",
    "import pandas as pd\n",
    "import ee\n",
    "from datetime import datetime, timedelta\n",
    "\n",
    "ee.Initialize(project='bustling-syntax-392010')\n",
    "\n",
    "def download_false_color_series_bbox(bbox_coords: list, volcano_name: str, volcano_number: int, center_date_str: str,\n",
    "                                     duration_days: int, cloudy_pixel_percentage: int, output_dir: str,\n",
    "                                     false_color_vis: dict):\n",
    "    # format center date\n",
    "    center_date = pd.to_datetime(center_date_str)\n",
    "\n",
    "    bbox = ee.Geometry.BBox(*bbox_coords)\n",
    "\n",
    "    start_window = (center_date - timedelta(days=duration_days)).strftime('%Y-%m-%d')\n",
    "    end_window = (center_date + timedelta(days=duration_days)).strftime('%Y-%m-%d')\n",
    "\n",
    "    # get sentilel 2 data\n",
    "    s2 = ee.ImageCollection(\"COPERNICUS/S2_HARMONIZED\") \\\n",
    "        .filterDate(start_window, end_window) \\\n",
    "        .filterBounds(bbox) \\\n",
    "        .filterMetadata('CLOUDY_PIXEL_PERCENTAGE', 'less_than', cloudy_pixel_percentage)\n",
    "\n",
    "    try:\n",
    "        s2_list = s2.toList(s2.size())\n",
    "        count = s2.size().getInfo()\n",
    "\n",
    "        if count == 0:\n",
    "            print(f\"No images found for {volcano_name} in the specified range.\")\n",
    "            return\n",
    "\n",
    "        # directories\n",
    "        volcano_id = f\"{volcano_name.replace(' ', '_')}_{volcano_number}\"\n",
    "        volcano_dir = os.path.join(output_dir, volcano_id)\n",
    "        before_dir = os.path.join(volcano_dir, \"NoActivity\")\n",
    "        after_dir = os.path.join(volcano_dir, \"YesActivity\")\n",
    "        os.makedirs(before_dir, exist_ok=True)\n",
    "        os.makedirs(after_dir, exist_ok=True)\n",
    "\n",
    "        for i in range(count):\n",
    "            try:\n",
    "                img = ee.Image(s2_list.get(i))\n",
    "                date_str = img.date().format('YYYY-MM-dd').getInfo()\n",
    "                img_date = pd.to_datetime(date_str)\n",
    "\n",
    "                subfolder = before_dir if img_date < center_date else after_dir\n",
    "\n",
    "                \n",
    "                raw_img = img.clip(bbox).select(['B12', 'B11', 'B8A'])\n",
    "                vis_img = raw_img.visualize(**false_color_vis)\n",
    "\n",
    "                url = vis_img.getThumbURL({\n",
    "                    'region': bbox.getInfo(),\n",
    "                    'dimensions': 512,\n",
    "                    'format': 'png'\n",
    "                })\n",
    "\n",
    "                file_path = os.path.join(subfolder, f'{volcano_id}_{date_str}.png')\n",
    "\n",
    "                response = requests.get(url)\n",
    "                if response.status_code == 200:\n",
    "                    with open(file_path, 'wb') as f:\n",
    "                        f.write(response.content)\n",
    "                    print(f\"Downloaded: {file_path}\")\n",
    "                else:\n",
    "                    print(f\"Failed ({response.status_code}) on {date_str}\")\n",
    "\n",
    "            except Exception as e:\n",
    "                print(f\"Error processing image {i}: {e}\")\n",
    "\n",
    "    except Exception as e:\n",
    "        print(f\"Failed to process {volcano_name}: {e}\")\n",
    "\n"
   ]
  },
  {
   "cell_type": "code",
   "execution_count": null,
   "id": "17",
   "metadata": {},
   "outputs": [],
   "source": [
    "import os\n",
    "\n",
    "output_dir = './sentinel_pngs/'\n",
    "os.makedirs(output_dir, exist_ok=True)\n",
    "print(\"Saving images to:\", os.path.abspath(output_dir))\n",
    "\n",
    "false_color_vis = {\n",
    "    'bands': ['B12', 'B11', 'B8A'],\n",
    "    'min': 0,\n",
    "    'max': 4000,  # increase max value for higher contrast\n",
    "    'gamma': 0.8  # lower gamma to enhance saturation\n",
    "}"
   ]
  },
  {
   "cell_type": "code",
   "execution_count": null,
   "id": "18",
   "metadata": {},
   "outputs": [],
   "source": [
    "# bbox_info = {\n",
    "#     'Volcano Name': 'Popocatepetl',\n",
    "#     'Volcano Number': 341090,\n",
    "#     'bbox': [-98.642, 19.003, -98.602, 19.043]\n",
    "# }\n",
    "# center_date_str = \"2025-01-20\"\n",
    "\n",
    "bbox_info = {\n",
    "    'Volcano Name': 'Stromboli',\n",
    "    'Volcano Number': 223030,\n",
    "    'bbox': [15.188594111321532, 38.7723757225835, 15.247343508352856, 38.81131467938869]\n",
    "}\n",
    "center_date_str =  \"2019-07-12\"\n",
    "\n",
    "# bbox_info = {\n",
    "#     'Volcano Name': 'Nyiragongo',\n",
    "#     'Volcano Number': 223030,\n",
    "#     'bbox': [-1.5284340969712804, 29.24300017519119, -1.515805117200142, 29.255567353688676]\n",
    "# }\n",
    "\n",
    "# \"2021-05-01\",\n",
    "\n",
    "\n",
    "# bbox_info = {\n",
    "#     'Volcano Name': 'Home Reef',\n",
    "#     'Volcano Number': 243080,\n",
    "#     'bbox': [-174.79, -19.007, -174.76000000000002, -18.977]\n",
    "# }\n",
    "# \"2024-06-20\",\n",
    "\n",
    "\n",
    "# [-174.79, -19.007], [-174.76000000000002, -18.977] # home reef\n",
    "# Home Reef\n",
    "# 243080\n",
    "# center_date_str=\"2024-06-20\"\n",
    "\n",
    "download_false_color_series_bbox(\n",
    "    bbox_coords=bbox_info['bbox'],\n",
    "    volcano_name=bbox_info['Volcano Name'],\n",
    "    volcano_number=bbox_info['Volcano Number'],\n",
    "    center_date_str=center_date_str,\n",
    "    duration_days=365,\n",
    "    cloudy_pixel_percentage=20,\n",
    "    output_dir=output_dir,\n",
    "    false_color_vis=false_color_vis\n",
    ")"
   ]
  }
 ],
 "metadata": {
  "kernelspec": {
   "display_name": "gee_env",
   "language": "python",
   "name": "python3"
  },
  "language_info": {
   "codemirror_mode": {
    "name": "ipython",
    "version": 3
   },
   "file_extension": ".py",
   "mimetype": "text/x-python",
   "name": "python",
   "nbconvert_exporter": "python",
   "pygments_lexer": "ipython3",
   "version": "3.10.17"
  }
 },
 "nbformat": 4,
 "nbformat_minor": 5
}
