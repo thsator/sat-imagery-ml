{
 "cells": [
  {
   "cell_type": "markdown",
   "metadata": {},
   "source": [
    "# Model Definition and Evaluation\n",
    "## Table of Contents\n",
    "1. [Model Selection](#model-selection)\n",
    "2. [Feature Engineering](#feature-engineering)\n",
    "3. [Hyperparameter Tuning](#hyperparameter-tuning)\n",
    "4. [Implementation](#implementation)\n",
    "5. [Evaluation Metrics](#evaluation-metrics)\n",
    "6. [Comparative Analysis](#comparative-analysis)\n"
   ]
  },
  {
   "cell_type": "code",
   "execution_count": null,
   "metadata": {},
   "outputs": [],
   "source": [
    "# Import necessary libraries\n",
    "import pandas as pd\n",
    "import numpy as np\n",
    "from sklearn.model_selection import train_test_split, GridSearchCV\n",
    "from sklearn.metrics import accuracy_score, mean_squared_error, classification_report\n",
    "import tensorflow as tf\n",
    "from tensorflow import keras\n",
    "from tensorflow.keras import layers\n",
    "import keras_tuner as kt\n",
    "import matplot as plt"
   ]
  },
  {
   "cell_type": "markdown",
   "metadata": {},
   "source": [
    "## Model Selection\n",
    "\n",
    "[Discuss the type(s) of models you consider for this task, and justify the selection.]\n",
    "\n"
   ]
  },
  {
   "cell_type": "markdown",
   "metadata": {},
   "source": [
    "## Feature Engineering\n",
    "\n",
    "[Describe any additional feature engineering you've performed beyond what was done for the baseline model.]\n"
   ]
  },
  {
   "cell_type": "code",
   "execution_count": null,
   "metadata": {},
   "outputs": [],
   "source": [
    "import os\n",
    "base_dir = os.path.dirname(os.getcwd())\n",
    "path_images = os.path.join(base_dir, \"1_DatasetCharacteristics\", \"EruptionImages\", \"sorted images\", \"train_val\")\n",
    "path_images_synth = os.path.join(base_dir, \"1_DatasetCharacteristics\", \"EruptionImages\", \"synth\")\n",
    "print(base_dir, path_images)"
   ]
  },
  {
   "cell_type": "code",
   "execution_count": null,
   "metadata": {},
   "outputs": [],
   "source": [
    "IMG_SIZE = (224, 224)\n",
    "BATCH_SIZE = 32\n",
    "\n",
    "dataset = tf.keras.utils.image_dataset_from_directory(\n",
    "    path_images,\n",
    "    image_size=IMG_SIZE,\n",
    "    batch_size=BATCH_SIZE,\n",
    "    label_mode='binary',\n",
    "    shuffle=True,   # randomize\n",
    "    color_mode='rgb',   # this strips alpha if present\n",
    "    seed=42\n",
    ")\n",
    "\n",
    "# Get the class names\n",
    "print(\"Class names:\", dataset.class_names)\n",
    "\n",
    "counts = {0: 0, 1: 0}\n",
    "\n",
    "for images, labels in dataset:\n",
    "    unique, counts_batch = np.unique(labels.numpy(), return_counts=True)\n",
    "    for u, c in zip(unique, counts_batch):\n",
    "        counts[u] += c\n",
    "\n",
    "print(f\"Label counts: {counts}\")"
   ]
  },
  {
   "cell_type": "code",
   "execution_count": null,
   "metadata": {},
   "outputs": [],
   "source": [
    "import tensorflow as tf\n",
    "import os\n",
    "\n",
    "# 1. Setup paths\n",
    "input_dir = path_images\n",
    "output_dir = path_images_synth\n",
    "\n",
    "os.makedirs(output_dir, exist_ok=True)\n",
    "\n",
    "# 2. Define augmentation function\n",
    "def augment_image(image):\n",
    "    # Randomly rotate by 0°, 90°, 180°, or 270°\n",
    "    k = tf.random.uniform(shape=[], minval=0, maxval=4, dtype=tf.int32)\n",
    "    image = tf.image.rot90(image, k)\n",
    "\n",
    "    # Random brightness and contrast\n",
    "    image = tf.image.random_brightness(image, max_delta=0.2)\n",
    "    image = tf.image.random_contrast(image, lower=0.8, upper=1.2)\n",
    "\n",
    "    image = tf.clip_by_value(image, 0, 255)\n",
    "    return image\n",
    "\n",
    "# 3. Process each image\n",
    "for filename in os.listdir(input_dir):\n",
    "    if filename.endswith('.jpg') or filename.endswith('.png'):\n",
    "        img_path = os.path.join(input_dir, filename)\n",
    "        img_raw = tf.io.read_file(img_path)\n",
    "        img = tf.image.decode_image(img_raw, channels=3)\n",
    "        img = tf.cast(img, tf.float32)\n",
    "\n",
    "        for i in range(5):\n",
    "            aug_img = augment_image(img)\n",
    "            aug_img = tf.cast(aug_img, tf.uint8)\n",
    "\n",
    "            new_filename = f\"{os.path.splitext(filename)[0]}_aug{i}.jpg\"\n",
    "            output_path = os.path.join(output_dir, new_filename)\n",
    "\n",
    "            encoded_img = tf.io.encode_jpeg(aug_img)\n",
    "            tf.io.write_file(output_path, encoded_img)\n",
    "\n",
    "print(f\"Done. Augmented images saved to: {output_dir}\")\n"
   ]
  },
  {
   "cell_type": "code",
   "execution_count": null,
   "metadata": {},
   "outputs": [],
   "source": [
    "total_batches = tf.data.experimental.cardinality(dataset).numpy()\n",
    "train_batches = int(total_batches * 0.8)\n",
    "val_batches = total_batches - train_batches\n",
    "\n",
    "train_ds = dataset.take(train_batches)\n",
    "val_ds = dataset.skip(train_batches)\n",
    "\n",
    "def count_labels(ds):\n",
    "    counts = {0: 0, 1: 0}\n",
    "    for _, labels in ds:\n",
    "        unique, counts_batch = np.unique(labels.numpy(), return_counts=True)\n",
    "        for u, c in zip(unique, counts_batch):\n",
    "            counts[int(u)] += c\n",
    "    return counts\n",
    "\n",
    "print(\"Train:\", count_labels(train_ds))\n",
    "print(\"Validation:\", count_labels(val_ds))\n",
    "\n",
    "\n"
   ]
  },
  {
   "cell_type": "code",
   "execution_count": null,
   "metadata": {},
   "outputs": [],
   "source": [
    "path_images_test = os.path.join(base_dir, \"1_DatasetCharacteristics\", \"EruptionImages\", \"sorted images\", \"test\")\n",
    "\n",
    "IMG_SIZE = (224, 224)\n",
    "BATCH_SIZE = 32\n",
    "\n",
    "# Replace this with your actual test folder path\n",
    "TEST_DIR = path_images_test\n",
    "\n",
    "test_df = tf.keras.utils.image_dataset_from_directory(\n",
    "    TEST_DIR,\n",
    "    labels='inferred',\n",
    "    label_mode='binary',\n",
    "    image_size=IMG_SIZE,\n",
    "    batch_size=BATCH_SIZE,\n",
    "    shuffle=False \n",
    ")\n",
    "\n",
    "print(\"Test dataset loaded\")\n",
    "print(f\"Class names: {test_df.class_names}\")\n",
    "\n",
    "counts = {0: 0, 1: 0}\n",
    "\n",
    "for images, labels in test_df:\n",
    "    unique, counts_batch = np.unique(labels.numpy(), return_counts=True)\n",
    "    for u, c in zip(unique, counts_batch):\n",
    "        counts[u] += c\n",
    "\n",
    "print(f\"Label counts: {counts}\")\n",
    "\n"
   ]
  },
  {
   "cell_type": "code",
   "execution_count": null,
   "metadata": {},
   "outputs": [],
   "source": [
    "# # Load the dataset\n",
    "# # Replace 'your_dataset.csv' with the path to your actual dataset\n",
    "# df = pd.read_csv('your_dataset.csv')\n",
    "\n",
    "# # Perform any feature engineering steps\n",
    "# # Example: df['new_feature'] = df['feature1'] + df['feature2']\n",
    "\n",
    "# # Feature and target variable selection\n",
    "# X = df[['your', 'selected', 'features']]\n",
    "# y = df['target_variable']\n",
    "\n",
    "# # Split the dataset\n",
    "# X_train, X_test, y_train, y_test = train_test_split(X, y, test_size=0.2, random_state=42)\n"
   ]
  },
  {
   "cell_type": "markdown",
   "metadata": {},
   "source": [
    "## Model"
   ]
  },
  {
   "cell_type": "code",
   "execution_count": null,
   "metadata": {},
   "outputs": [],
   "source": [
    "model = keras.Sequential([\n",
    "    layers.Rescaling(1./255, input_shape=(224, 224, 3)),\n",
    "    layers.Conv2D(32, (3, 3), activation='relu'),\n",
    "    layers.MaxPooling2D(),\n",
    "    layers.Conv2D(64, (3, 3), activation='relu'),\n",
    "    layers.MaxPooling2D(),\n",
    "    layers.Conv2D(128, (3, 3), activation='relu'),\n",
    "    layers.MaxPooling2D(),\n",
    "    layers.Flatten(),\n",
    "    layers.Dense(128, activation='relu'),\n",
    "    layers.Dense(1, activation='sigmoid')  # Binary output\n",
    "])\n"
   ]
  },
  {
   "cell_type": "code",
   "execution_count": null,
   "metadata": {},
   "outputs": [],
   "source": [
    "model.compile(\n",
    "    optimizer='adam',\n",
    "    loss='binary_crossentropy',\n",
    "    metrics=['accuracy']\n",
    ")\n",
    "\n",
    "history = model.fit(\n",
    "    train_ds,\n",
    "    validation_data=val_ds,\n",
    "    epochs=10\n",
    ")"
   ]
  },
  {
   "cell_type": "code",
   "execution_count": null,
   "metadata": {},
   "outputs": [],
   "source": [
    "import matplotlib\n",
    "matplotlib.use('Agg')  # Or 'TkAgg'\n",
    "import matplotlib.pyplot as plt\n",
    "\n",
    "acc = history.history['accuracy']\n",
    "val_acc = history.history['val_accuracy']\n",
    "loss = history.history['loss']\n",
    "val_loss = history.history['val_loss']\n",
    "\n",
    "epochs_range = range(len(acc))\n",
    "\n",
    "plt.figure(figsize=(12, 6))\n",
    "\n",
    "plt.subplot(1, 2, 1)\n",
    "plt.plot(epochs_range, acc, label='Training Accuracy')\n",
    "plt.plot(epochs_range, val_acc, label='Validation Accuracy')\n",
    "plt.legend()\n",
    "plt.title('Accuracy')\n",
    "\n",
    "plt.subplot(1, 2, 2)\n",
    "plt.plot(epochs_range, loss, label='Training Loss')\n",
    "plt.plot(epochs_range, val_loss, label='Validation Loss')\n",
    "plt.legend()\n",
    "plt.title('Loss')\n",
    "\n",
    "plt.savefig(\"training_plot.png\")\n",
    "print(\"✅ Saved: training_plot.png\")\n"
   ]
  },
  {
   "cell_type": "markdown",
   "metadata": {},
   "source": [
    "## Hyperparameter Tuning\n",
    "\n",
    "[Discuss any hyperparameter tuning methods you've applied, such as Grid Search or Random Search, and the rationale behind them.]\n"
   ]
  },
  {
   "cell_type": "code",
   "execution_count": null,
   "metadata": {},
   "outputs": [],
   "source": [
    "# Implement hyperparameter tuning\n",
    "# Example using GridSearchCV with a DecisionTreeClassifier\n",
    "# param_grid = {'max_depth': [2, 4, 6, 8]}\n",
    "# grid_search = GridSearchCV(DecisionTreeClassifier(), param_grid, cv=5)\n",
    "# grid_search.fit(X_train, y_train)\n"
   ]
  },
  {
   "cell_type": "markdown",
   "metadata": {},
   "source": [
    "## Implementation\n",
    "\n",
    "[Implement the final model(s) you've selected based on the above steps.]\n"
   ]
  },
  {
   "cell_type": "code",
   "execution_count": null,
   "metadata": {},
   "outputs": [],
   "source": [
    "# Implement the final model(s)\n",
    "# Example: model = YourChosenModel(best_hyperparameters)\n",
    "# model.fit(X_train, y_train)\n"
   ]
  },
  {
   "cell_type": "markdown",
   "metadata": {},
   "source": [
    "## Evaluation Metrics\n",
    "\n",
    "[Clearly specify which metrics you'll use to evaluate the model performance, and why you've chosen these metrics.]\n"
   ]
  },
  {
   "cell_type": "code",
   "execution_count": null,
   "metadata": {},
   "outputs": [],
   "source": [
    "# Evaluate the model using your chosen metrics\n",
    "# Example for classification\n",
    "# y_pred = model.predict(X_test)\n",
    "# print(classification_report(y_test, y_pred))\n",
    "\n",
    "# Example for regression\n",
    "# mse = mean_squared_error(y_test, y_pred)\n",
    "\n",
    "# Your evaluation code here\n"
   ]
  },
  {
   "cell_type": "markdown",
   "metadata": {},
   "source": [
    "## Comparative Analysis\n",
    "\n",
    "[Compare the performance of your model(s) against the baseline model. Discuss any improvements or setbacks and the reasons behind them.]\n"
   ]
  },
  {
   "cell_type": "code",
   "execution_count": null,
   "metadata": {},
   "outputs": [],
   "source": [
    "# Comparative Analysis code (if applicable)\n",
    "# Example: comparing accuracy of the baseline model and the new model\n",
    "# print(f\"Baseline Model Accuracy: {baseline_accuracy}, New Model Accuracy: {new_model_accuracy}\")\n"
   ]
  }
 ],
 "metadata": {
  "kernelspec": {
   "display_name": ".venv",
   "language": "python",
   "name": "python3"
  },
  "language_info": {
   "codemirror_mode": {
    "name": "ipython",
    "version": 3
   },
   "file_extension": ".py",
   "mimetype": "text/x-python",
   "name": "python",
   "nbconvert_exporter": "python",
   "pygments_lexer": "ipython3",
   "version": "3.10.0"
  }
 },
 "nbformat": 4,
 "nbformat_minor": 2
}
